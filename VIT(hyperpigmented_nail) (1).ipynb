{
  "nbformat": 4,
  "nbformat_minor": 0,
  "metadata": {
    "colab": {
      "provenance": []
    },
    "kernelspec": {
      "name": "python3",
      "display_name": "Python 3"
    },
    "language_info": {
      "name": "python"
    }
  },
  "cells": [
    {
      "cell_type": "code",
      "metadata": {
        "id": "doGoI3JwQhEc"
      },
      "source": [
        "import numpy as np\n",
        "import tensorflow as tf\n",
        "from tensorflow import keras\n",
        "from tensorflow.keras import layers"
      ],
      "execution_count": null,
      "outputs": []
    },
    {
      "cell_type": "code",
      "metadata": {
        "id": "OUmW3zh4lrbQ",
        "colab": {
          "base_uri": "https://localhost:8080/"
        },
        "outputId": "08168420-4874-4bbb-b301-3138b9eb138a"
      },
      "source": [
        "\n",
        "!unzip new_set.zip"
      ],
      "execution_count": null,
      "outputs": [
        {
          "output_type": "stream",
          "name": "stdout",
          "text": [
            "Archive:  VIT_set.zip\n",
            "replace VIT_set/test_data/diseases/61 Subungual Hematoma Stock Photos....jpg? [y]es, [n]o, [A]ll, [N]one, [r]ename: A\n",
            "  inflating: VIT_set/test_data/diseases/61 Subungual Hematoma Stock Photos....jpg  \n",
            "  inflating: VIT_set/test_data/diseases/Acral melanoma mimicking subungual....jpg  \n",
            "  inflating: VIT_set/test_data/diseases/Best Approach to This Subungual Lesion....png  \n",
            "  inflating: VIT_set/test_data/diseases/Big Toenail Subungual Hematoma_ Images....jpg  \n",
            "  inflating: VIT_set/test_data/diseases/Black Spot Beneath My Nail....jpeg  \n",
            "  inflating: VIT_set/test_data/diseases/Bleeding Under Nail-Subungual Hematoma....jpg  \n",
            "  inflating: VIT_set/test_data/diseases/Blood Blisters Under Toenails _ Dr....jpg  \n",
            "  inflating: VIT_set/test_data/diseases/Blood Underneath Fingernail Stock Photo....jpg  \n",
            "  inflating: VIT_set/test_data/diseases/Bruised Fingernail_ Smashed_ Subungual... (1).jpg  \n",
            "  inflating: VIT_set/test_data/diseases/Bruised Fingernail_ Smashed_ Subungual....jpg  \n",
            "  inflating: VIT_set/test_data/diseases/Bruised Toenail (Subungual Hematoma).jpg  \n",
            "  inflating: VIT_set/test_data/diseases/Common nail discoloration -.jpg  \n",
            "VIT_set/test_data/diseases/Cureus _ Melanonychia – Clues for a....jpg:  mismatching \"local\" filename (VIT_set/test_data/diseases/Cureus _ Melanonychia тАУ Clues for a....jpg),\n",
            "         continuing with \"central\" filename version\n",
            "  inflating: VIT_set/test_data/diseases/Cureus _ Melanonychia – Clues for a....jpg  \n",
            "  inflating: VIT_set/test_data/diseases/Derm - Onychology (3) Flashcards _ Memorang.jpg  \n",
            "  inflating: VIT_set/test_data/diseases/Dermatopathology.jpg  \n",
            "  inflating: VIT_set/test_data/diseases/DermDx_ Pigmented Toe Nail With No....jpg  \n",
            "  inflating: VIT_set/test_data/diseases/Diagnostic Tests for Subungual Pigmentation.jpg  \n",
            "  inflating: VIT_set/test_data/diseases/Differentiating Nail Diseases With....jfif  \n",
            "  inflating: VIT_set/test_data/diseases/Disorders of the nail _ OrthoPaedia.png  \n",
            "  inflating: VIT_set/test_data/diseases/Do You Have to Drain a Subungual Hematoma_.jpg  \n",
            "  inflating: VIT_set/test_data/diseases/doctor for my subungual hematoma....jpg  \n",
            "  inflating: VIT_set/test_data/diseases/drain subungual hematoma - Journal... (1).jpg  \n",
            "  inflating: VIT_set/test_data/diseases/drain subungual hematoma - Journal....jpg  \n",
            "  inflating: VIT_set/test_data/diseases/Emergency Medicine News.jpg  \n",
            "  inflating: VIT_set/test_data/diseases/Evaluation of Nail Abnormalities....jpg  \n",
            "  inflating: VIT_set/test_data/diseases/Figure 2 from Fingertip injuries....png  \n",
            "  inflating: VIT_set/test_data/diseases/Figure_ Subungual hematoma. Contributed ....jpg  \n",
            "  inflating: VIT_set/test_data/diseases/Haematoma Art _ Pixels.jpg  \n",
            "  inflating: VIT_set/test_data/diseases/Haematoma or Melanoma_.png  \n",
            "  inflating: VIT_set/test_data/diseases/Haematoma or Melanoma_1.png  \n",
            "  inflating: VIT_set/test_data/normal/noramal_nail13.jpg  \n",
            "  inflating: VIT_set/test_data/normal/noramal_nail18.jpg  \n",
            "  inflating: VIT_set/test_data/normal/noramal_nail19.jpg  \n",
            "  inflating: VIT_set/test_data/normal/noramal_nail22.jpg  \n",
            "  inflating: VIT_set/test_data/normal/noramal_nail23.jpg  \n",
            "  inflating: VIT_set/test_data/normal/noramal_nail24.jpg  \n",
            "  inflating: VIT_set/test_data/normal/noramal_nail36.jpg  \n",
            "  inflating: VIT_set/test_data/normal/noramal_nail37.jpg  \n",
            "  inflating: VIT_set/test_data/normal/noramal_nail38.jpg  \n",
            "  inflating: VIT_set/test_data/normal/noramal_nail43.jpg  \n",
            "  inflating: VIT_set/test_data/normal/noramal_nail44.jpg  \n",
            "  inflating: VIT_set/test_data/normal/noramal_nail45.jpg  \n",
            "  inflating: VIT_set/test_data/normal/noramal_nail46.jpg  \n",
            "  inflating: VIT_set/test_data/normal/noramal_nail47.jpg  \n",
            "  inflating: VIT_set/test_data/normal/noramal_nail50.jpg  \n",
            "  inflating: VIT_set/test_data/normal/noramal_nail52.jpg  \n",
            "  inflating: VIT_set/test_data/normal/noramal_nail53.jpg  \n",
            "  inflating: VIT_set/test_data/normal/noramal_nail54.jpg  \n",
            "  inflating: VIT_set/test_data/normal/noramal_nail55.jpg  \n",
            "  inflating: VIT_set/test_data/normal/noramal_nail66.jpg  \n",
            "  inflating: VIT_set/test_data/normal/noramal_nail7.jpg  \n",
            "  inflating: VIT_set/test_data/normal/noramal_nail71.jpg  \n",
            "  inflating: VIT_set/test_data/normal/noramal_nail74.jpg  \n",
            "  inflating: VIT_set/test_data/normal/noramal_nail8.jpg  \n",
            "  inflating: VIT_set/test_data/normal/noramal_nail9.jpg  \n",
            "  inflating: VIT_set/train_data/diseases/Healthcare _ Free Full-Text _ Melanoma....png  \n",
            "VIT_set/train_data/diseases/hematoma _ Shot on Cano… _ Flickr.jpg:  mismatching \"local\" filename (VIT_set/train_data/diseases/hematoma _ Shot on CanoтАж _ Flickr.jpg),\n",
            "         continuing with \"central\" filename version\n",
            "  inflating: VIT_set/train_data/diseases/hematoma _ Shot on Cano… _ Flickr.jpg  \n",
            "  inflating: VIT_set/train_data/diseases/Hematoma_ Overview_ types_ treatment....jpg  \n",
            "  inflating: VIT_set/train_data/diseases/Image_ Subungual Hematoma (Fingernail....jpg  \n",
            "  inflating: VIT_set/train_data/diseases/Image_ Subungual Hematoma (Toenail....jpg  \n",
            "  inflating: VIT_set/train_data/diseases/Injuries to the Nail Apparatus....jpg  \n",
            "  inflating: VIT_set/train_data/diseases/Is that blood under my nail_ How do I_yythkg....jpg  \n",
            "  inflating: VIT_set/train_data/diseases/JaypeeDigital _ eBook Reader (1).jpg  \n",
            "  inflating: VIT_set/train_data/diseases/Jerad Gardner_ MD na Twitteru....jpg  \n",
            "  inflating: VIT_set/train_data/diseases/Jerad Gardner_ MD on Twitter....jpg  \n",
            "  inflating: VIT_set/train_data/diseases/Medical Minute_ ALL ABOUT THE NAIL PART....png  \n",
            "  inflating: VIT_set/train_data/diseases/Nail Bed Injury - Hand - Orthobullets.jpg  \n",
            "  inflating: VIT_set/train_data/diseases/Nail hematoma. Take care of your feet ....jpg  \n",
            "  inflating: VIT_set/train_data/diseases/Nail Involvement in Leprosy _ Actas....jpg  \n",
            "  inflating: VIT_set/train_data/diseases/Nailing Your Diagnosis_ The Hand Exam....jpg  \n",
            "  inflating: VIT_set/train_data/diseases/Non-Melanoma-Associated Dyschromia... (1).jfif  \n",
            "  inflating: VIT_set/train_data/diseases/Non-Melanoma-Associated Dyschromia....jfif  \n",
            "  inflating: VIT_set/train_data/diseases/Ortho Dx_ Would you remove this....jpg  \n",
            "  inflating: VIT_set/train_data/diseases/Ortho Rhode Island.jpg  \n",
            "  inflating: VIT_set/train_data/diseases/Pin on Nail Health.jpg  \n",
            "  inflating: VIT_set/train_data/diseases/Rivera Foot and Ankle - Treatment of....jpg  \n",
            "  inflating: VIT_set/train_data/diseases/Search Results (1).jpg  \n",
            "  inflating: VIT_set/train_data/diseases/Search Results.jpg  \n",
            "  inflating: VIT_set/train_data/diseases/Severe Subungal Heamatosis - A User_s....jpg  \n",
            "  inflating: VIT_set/train_data/diseases/SH.jpg  \n",
            "  inflating: VIT_set/train_data/diseases/Subungual haematoma - Melbourne Hand....jpg  \n",
            "  inflating: VIT_set/train_data/diseases/Subungual haematoma - Stock Image... (1).jpg  \n",
            "  inflating: VIT_set/train_data/diseases/Subungual haematoma - Stock Image... (2).jpg  \n",
            "  inflating: VIT_set/train_data/diseases/Subungual haematoma - Stock Image....jpg  \n",
            "  inflating: VIT_set/train_data/diseases/Subungual Haematoma Photograph by....jpg  \n",
            "  inflating: VIT_set/train_data/diseases/Subungual haematoma trephination....jpg  \n",
            "  inflating: VIT_set/train_data/diseases/Subungual haematoma. Demonstration of ....png  \n",
            "  inflating: VIT_set/train_data/diseases/Subungual haematomas (Bleeding under....jpg  \n",
            "  inflating: VIT_set/train_data/diseases/Subungual haemorrhage _ DermNet NZ (1).jfif  \n",
            "  inflating: VIT_set/train_data/diseases/Subungual haemorrhage _ DermNet NZ (3).jfif  \n",
            "  inflating: VIT_set/train_data/diseases/Subungual haemorrhage _ DermNet NZ (4).jfif  \n",
            "  inflating: VIT_set/train_data/diseases/Subungual haemorrhage _ DermNet NZ (5).jfif  \n",
            "  inflating: VIT_set/train_data/diseases/Subungual haemorrhage _ DermNet NZ.jfif  \n",
            "  inflating: VIT_set/train_data/diseases/Subungual hematoma )_ repetitive injury....jpg  \n",
            "  inflating: VIT_set/train_data/diseases/Subungual Hematoma - American....jpg  \n",
            "  inflating: VIT_set/train_data/diseases/Subungual hematoma - collection of....jpg  \n",
            "  inflating: VIT_set/train_data/diseases/Subungual hematoma - Document - Gale....jpg  \n",
            "  inflating: VIT_set/train_data/diseases/Subungual hematoma - so I keep being....jpg  \n",
            "  inflating: VIT_set/train_data/diseases/Subungual Hematoma - Stock Image - C043....jpg  \n",
            "  inflating: VIT_set/train_data/diseases/Subungual hematoma - WikEM (1).jpg  \n",
            "  inflating: VIT_set/train_data/diseases/Subungual hematoma - WikEM.jpg  \n",
            "  inflating: VIT_set/train_data/diseases/Subungual hematoma - wikidoc.jpg  \n",
            "  inflating: VIT_set/train_data/diseases/Subungual hematoma - Wikipedia.jpg  \n",
            "  inflating: VIT_set/train_data/diseases/Subungual hematoma - Wikipedia.png  \n",
            "  inflating: VIT_set/train_data/diseases/subungual hematoma Archives - Dr. Nick ....jpg  \n",
            "  inflating: VIT_set/train_data/diseases/Subungual Hematoma Blood Under Nail... (1).jpg  \n",
            "  inflating: VIT_set/train_data/diseases/Subungual Hematoma Evacuation....jpg  \n",
            "  inflating: VIT_set/train_data/diseases/Subungual hematoma from 1 week ago when....jpg  \n",
            "  inflating: VIT_set/train_data/diseases/Subungual Hematoma From Dog Bite.jpg  \n",
            "  inflating: VIT_set/train_data/diseases/subungual hematoma Kaliyadan F....jpg  \n",
            "  inflating: VIT_set/train_data/diseases/Subungual hematoma management....png  \n",
            "  inflating: VIT_set/train_data/diseases/Subungual Hematoma on thumb female_s....jpg  \n",
            "  inflating: VIT_set/train_data/diseases/Subungual hematoma or melanoma....jpg  \n",
            "  inflating: VIT_set/train_data/diseases/Subungual Hematoma Under Nail stock... (2).jpg  \n",
            "  inflating: VIT_set/train_data/diseases/Subungual Hematoma _ Anesthesia Key.jpg  \n",
            "  inflating: VIT_set/train_data/diseases/Subungual Hematoma _ Consultant360.png  \n",
            "  inflating: VIT_set/train_data/diseases/Subungual Hematoma _ Obgyn Key.jpg  \n",
            "  inflating: VIT_set/train_data/diseases/subungual hematoma _ Semantic Scholar.png  \n",
            "  inflating: VIT_set/train_data/diseases/Subungual Hematoma _ SpringerLink.jpg  \n",
            "  inflating: VIT_set/train_data/diseases/Subungual hematoma.jfif  \n",
            "  inflating: VIT_set/train_data/diseases/Subungual hematoma.jpg  \n",
            "  inflating: VIT_set/train_data/diseases/Subungual Hematoma_ Black_ Bruised....jpg  \n",
            "  inflating: VIT_set/train_data/diseases/Subungual Hematoma_ Funky Nail or....jpg  \n",
            "  inflating: VIT_set/train_data/diseases/Subungual hematoma_ Symptoms_ causes... (1).jpg  \n",
            "  inflating: VIT_set/train_data/diseases/Subungual hematoma_ Symptoms_ causes... (2).jpg  \n",
            "  inflating: VIT_set/train_data/diseases/Subungual hematoma_ Symptoms_ causes....jpg  \n",
            "  inflating: VIT_set/train_data/diseases/Subungual Hematoma_ Treating Runner_s Toe.jpg  \n",
            "  inflating: VIT_set/train_data/diseases/Subungual Lesion Hasn_t Grown Out....jpg  \n",
            "  inflating: VIT_set/train_data/diseases/Tennis Toe & Subungual Hematoma....jpg  \n",
            "  inflating: VIT_set/train_data/diseases/Toe Fractures - Injuries and Poisoning....jpg  \n",
            "  inflating: VIT_set/train_data/diseases/Toe Nail Injuries _ Causes and....jpeg  \n",
            "  inflating: VIT_set/train_data/diseases/Toenail (Subungual Hematoma) vs....jpeg  \n",
            "  inflating: VIT_set/train_data/diseases/Toenail Falling Off_ The SECRET....jpg  \n",
            "  inflating: VIT_set/train_data/diseases/toenail. Subungual hematoma. Bruise ....png  \n",
            "  inflating: VIT_set/train_data/diseases/toenail. Subungual hematoma. Injury ....png  \n",
            "  inflating: VIT_set/train_data/diseases/Treatment for Blood Under Your Nail.jpg  \n",
            "  inflating: VIT_set/train_data/diseases/Under Finger-nail... (1).jpg  \n",
            "  inflating: VIT_set/train_data/diseases/Under Finger-nail... (2).jpg  \n",
            "  inflating: VIT_set/train_data/diseases/Under Finger-nail....jpg  \n",
            "  inflating: VIT_set/train_data/diseases/View Image.jpg  \n",
            "  inflating: VIT_set/train_data/diseases/View Of A Subungual Haematoma Under A....jpg  \n",
            "  inflating: VIT_set/train_data/diseases/Virtual Grand Rounds in Dermatology.jpg  \n",
            "  inflating: VIT_set/train_data/diseases/What caused a painful purple spot under....jpg  \n",
            "  inflating: VIT_set/train_data/diseases/What Is A Subungual Haematoma....jpg  \n",
            "  inflating: VIT_set/train_data/diseases/with Subungual Hematoma _ Shot....jpg  \n",
            "  inflating: VIT_set/train_data/diseases/Your Guide to Black Toenails and How to....jpg  \n",
            "  inflating: VIT_set/train_data/normal/noramal_nail0.jpg  \n",
            "  inflating: VIT_set/train_data/normal/noramal_nail1.jpg  \n",
            "  inflating: VIT_set/train_data/normal/noramal_nail10.jpg  \n",
            "  inflating: VIT_set/train_data/normal/noramal_nail11.jpg  \n",
            "  inflating: VIT_set/train_data/normal/noramal_nail12.jpg  \n",
            "  inflating: VIT_set/train_data/normal/noramal_nail14.jpg  \n",
            "  inflating: VIT_set/train_data/normal/noramal_nail15.jpg  \n",
            "  inflating: VIT_set/train_data/normal/noramal_nail16.jpg  \n",
            "  inflating: VIT_set/train_data/normal/noramal_nail17.jpg  \n",
            "  inflating: VIT_set/train_data/normal/noramal_nail2.jpg  \n",
            "  inflating: VIT_set/train_data/normal/noramal_nail20.jpg  \n",
            "  inflating: VIT_set/train_data/normal/noramal_nail21.jpg  \n",
            "  inflating: VIT_set/train_data/normal/noramal_nail25.jpg  \n",
            "  inflating: VIT_set/train_data/normal/noramal_nail26.jpg  \n",
            "  inflating: VIT_set/train_data/normal/noramal_nail27.jpg  \n",
            "  inflating: VIT_set/train_data/normal/noramal_nail28.jpg  \n",
            "  inflating: VIT_set/train_data/normal/noramal_nail29.jpg  \n",
            "  inflating: VIT_set/train_data/normal/noramal_nail3.jpg  \n",
            "  inflating: VIT_set/train_data/normal/noramal_nail30.jpg  \n",
            "  inflating: VIT_set/train_data/normal/noramal_nail31.jpg  \n",
            "  inflating: VIT_set/train_data/normal/noramal_nail32.jpg  \n",
            "  inflating: VIT_set/train_data/normal/noramal_nail33.jpg  \n",
            "  inflating: VIT_set/train_data/normal/noramal_nail34.jpg  \n",
            "  inflating: VIT_set/train_data/normal/noramal_nail35.jpg  \n",
            "  inflating: VIT_set/train_data/normal/noramal_nail39.jpg  \n",
            "  inflating: VIT_set/train_data/normal/noramal_nail4.jpg  \n",
            "  inflating: VIT_set/train_data/normal/noramal_nail40.jpg  \n",
            "  inflating: VIT_set/train_data/normal/noramal_nail41.jpg  \n",
            "  inflating: VIT_set/train_data/normal/noramal_nail42.jpg  \n",
            "  inflating: VIT_set/train_data/normal/noramal_nail48.jpg  \n",
            "  inflating: VIT_set/train_data/normal/noramal_nail49.jpg  \n",
            "  inflating: VIT_set/train_data/normal/noramal_nail5.jpg  \n",
            "  inflating: VIT_set/train_data/normal/noramal_nail51.jpg  \n",
            "  inflating: VIT_set/train_data/normal/noramal_nail56.jpg  \n",
            "  inflating: VIT_set/train_data/normal/noramal_nail57.jpg  \n",
            "  inflating: VIT_set/train_data/normal/noramal_nail58.jpg  \n",
            "  inflating: VIT_set/train_data/normal/noramal_nail59.jpg  \n",
            "  inflating: VIT_set/train_data/normal/noramal_nail6.jpg  \n",
            "  inflating: VIT_set/train_data/normal/noramal_nail60.jpg  \n",
            "  inflating: VIT_set/train_data/normal/noramal_nail61.jpg  \n",
            "  inflating: VIT_set/train_data/normal/noramal_nail62.jpg  \n",
            "  inflating: VIT_set/train_data/normal/noramal_nail63.jpg  \n",
            "  inflating: VIT_set/train_data/normal/noramal_nail64.jpg  \n",
            "  inflating: VIT_set/train_data/normal/noramal_nail65.jpg  \n",
            "  inflating: VIT_set/train_data/normal/noramal_nail67.jpg  \n",
            "  inflating: VIT_set/train_data/normal/noramal_nail68.jpg  \n",
            "  inflating: VIT_set/train_data/normal/noramal_nail69.jpg  \n",
            "  inflating: VIT_set/train_data/normal/noramal_nail70.jpg  \n",
            "  inflating: VIT_set/train_data/normal/noramal_nail72.jpg  \n",
            "  inflating: VIT_set/train_data/normal/noramal_nail73.jpg  \n",
            "  inflating: VIT_set/train_data/normal/noramal_nail75.jpg  \n",
            "  inflating: VIT_set/train_data/normal/noramal_nail76.jpg  \n",
            "  inflating: VIT_set/train_data/normal/noramal_nail77.jpg  \n",
            "  inflating: VIT_set/train_data/normal/noramal_nail78.jpg  \n",
            "  inflating: VIT_set/train_data/normal/noramal_nail79.jpg  \n",
            "  inflating: VIT_set/train_data/normal/noramal_nail80.jpg  \n",
            "  inflating: VIT_set/train_data/normal/noramal_nail81.jpg  \n",
            "  inflating: VIT_set/train_data/normal/noramal_nail82.jpg  \n",
            "  inflating: VIT_set/train_data/normal/noramal_nail83.jpg  \n",
            "  inflating: VIT_set/train_data/normal/noramal_nail84.jpg  \n",
            "  inflating: VIT_set/train_data/normal/noramal_nail85.jpg  \n",
            "  inflating: VIT_set/train_data/normal/noramal_nail86.jpg  \n",
            "  inflating: VIT_set/train_data/normal/noramal_nail87.jpg  \n",
            "  inflating: VIT_set/train_data/normal/noramal_nail88.jpg  \n",
            "  inflating: VIT_set/train_data/normal/noramal_nail89.jpg  \n",
            "  inflating: VIT_set/train_data/normal/noramal_nail90.jpg  \n",
            "  inflating: VIT_set/train_data/normal/noramal_nail91.jpg  \n",
            "  inflating: VIT_set/train_data/normal/noramal_nail92.jpg  \n",
            "  inflating: VIT_set/train_data/normal/noramal_nail93.jpg  \n",
            "  inflating: VIT_set/train_data/normal/noramal_nail94.jpg  \n",
            "  inflating: VIT_set/train_data/normal/noramal_nail95.jpg  \n"
          ]
        }
      ]
    },
    {
      "cell_type": "code",
      "metadata": {
        "id": "uhq_b7hUT-pr"
      },
      "source": [
        "pip install -U tensorflow-addons"
      ],
      "execution_count": null,
      "outputs": []
    },
    {
      "cell_type": "code",
      "metadata": {
        "id": "42FNgWWyUqZK"
      },
      "source": [
        "from tensorflow.keras import layers\n",
        "import tensorflow_addons as tfa"
      ],
      "execution_count": null,
      "outputs": []
    },
    {
      "cell_type": "code",
      "metadata": {
        "id": "xyw1UHHvUvCy"
      },
      "source": [
        "import numpy as np\n",
        "import os\n",
        "from sklearn.metrics import confusion_matrix\n",
        "import seaborn as sn; sn.set(font_scale=1.4)\n",
        "from sklearn.utils import shuffle\n",
        "import matplotlib.pyplot as plt\n",
        "import cv2\n",
        "import tensorflow as tf\n",
        "from tqdm import tqdm"
      ],
      "execution_count": null,
      "outputs": []
    },
    {
      "cell_type": "code",
      "metadata": {
        "id": "sH1Lvx_qU8XA"
      },
      "source": [
        "class_names = ['diseases','normal']\n",
        "class_names_label = {class_name:i for i, class_name in enumerate(class_names)}\n",
        "\n",
        "nb_classes = len(class_names)\n",
        "\n",
        "input_shape = (90, 90,3)"
      ],
      "execution_count": null,
      "outputs": []
    },
    {
      "cell_type": "code",
      "metadata": {
        "id": "v14f8WIhWPbW"
      },
      "source": [
        "def load_data():\n",
        "  datasets = ['new_set/train_data/' , 'new_set/test_data/']\n",
        "  output = []\n",
        "\n",
        "  for dataset in datasets:\n",
        "\n",
        "    images = []\n",
        "    labels = []\n",
        "    print(\"Loading{}\".format(dataset))\n",
        "\n",
        "    for folder in os.listdir(dataset):\n",
        "      label= class_names_label[folder]\n",
        "\n",
        "      for file in tqdm(os.listdir(os.path.join(dataset,folder))):\n",
        "        image_path = os.path.join(os.path.join(dataset, folder), file)\n",
        "        image = cv2.imread(image_path)\n",
        "        image = cv2.cvtColor(image, cv2.COLOR_BGR2RGB)\n",
        "        image = cv2.resize(image, input_shape[:2])\n",
        "\n",
        "        images.append(image)\n",
        "        labels.append(label)\n",
        "    images = np.array(images, dtype = 'float32')\n",
        "    labels = np.array(labels, dtype = 'int32')\n",
        "    output.append((images, labels))\n",
        "  return output\n",
        "\n",
        "\n",
        "\n"
      ],
      "execution_count": null,
      "outputs": []
    },
    {
      "cell_type": "code",
      "metadata": {
        "colab": {
          "base_uri": "https://localhost:8080/"
        },
        "id": "sVZKRIPIZQ5a",
        "outputId": "853cbd6f-30e3-4c00-be71-c9273562c00b"
      },
      "source": [
        "(x_train, y_train), (x_test, y_test) = load_data()"
      ],
      "execution_count": null,
      "outputs": [
        {
          "output_type": "stream",
          "name": "stdout",
          "text": [
            "Loadingnew_set/train_data/\n"
          ]
        },
        {
          "output_type": "stream",
          "name": "stderr",
          "text": [
            "100%|██████████| 71/71 [00:00<00:00, 1016.20it/s]\n",
            "100%|██████████| 72/72 [00:00<00:00, 2501.49it/s]\n"
          ]
        },
        {
          "output_type": "stream",
          "name": "stdout",
          "text": [
            "Loadingnew_set/test_data/\n"
          ]
        },
        {
          "output_type": "stream",
          "name": "stderr",
          "text": [
            "100%|██████████| 25/25 [00:00<00:00, 1784.38it/s]\n",
            "100%|██████████| 25/25 [00:00<00:00, 1633.22it/s]\n"
          ]
        }
      ]
    },
    {
      "cell_type": "code",
      "metadata": {
        "colab": {
          "base_uri": "https://localhost:8080/"
        },
        "id": "zR5WtddGZYYn",
        "outputId": "0bd09aba-3119-4d38-b147-c7c74688222f"
      },
      "source": [
        "n_train = x_train.shape[0]\n",
        "n_test = y_test.shape[0]\n",
        "\n",
        "\n",
        "print (\"Number of training examples: {}\".format(n_train))\n",
        "print (\"Number of testing examples: {}\".format(n_test))\n",
        "print (\"Each image is of size: {}\".format(input_shape))"
      ],
      "execution_count": null,
      "outputs": [
        {
          "output_type": "stream",
          "name": "stdout",
          "text": [
            "Number of training examples: 143\n",
            "Number of testing examples: 50\n",
            "Each image is of size: (90, 90, 3)\n"
          ]
        }
      ]
    },
    {
      "cell_type": "code",
      "metadata": {
        "id": "2MCl83KnZw2A"
      },
      "source": [
        "#  Configure the hyperparameters\n"
      ],
      "execution_count": null,
      "outputs": []
    },
    {
      "cell_type": "code",
      "metadata": {
        "id": "OfsyElyUaHx2"
      },
      "source": [
        "learning_rate = 0.001\n",
        "weight_decay = 0.0001\n",
        "batch_size = 256\n",
        "num_epochs = 100\n",
        "image_size = 72  # We'll resize input images to this size\n",
        "patch_size = 24  # Size of the patches to be extract from the input images\n",
        "num_patches = (image_size // patch_size) ** 2\n",
        "projection_dim = 64\n",
        "num_heads = 4\n",
        "transformer_units = [\n",
        "    projection_dim * 2,\n",
        "    projection_dim,\n",
        "]  # Size of the transformer layers\n",
        "transformer_layers = 8\n",
        "mlp_head_units = [2048, 1024]  # Size of the dense layers of the final classifier"
      ],
      "execution_count": null,
      "outputs": []
    },
    {
      "cell_type": "code",
      "metadata": {
        "colab": {
          "base_uri": "https://localhost:8080/"
        },
        "id": "L19jvvn8aTcm",
        "outputId": "0a08b06e-1b78-403e-ffbd-f3fd2371948d"
      },
      "source": [
        "print(f\"x_train shape: {x_train.shape} - y_train shape: {y_train.shape}\")\n",
        "print(f\"x_test shape: {x_test.shape} - y_test shape: {y_test.shape}\")"
      ],
      "execution_count": null,
      "outputs": [
        {
          "output_type": "stream",
          "name": "stdout",
          "text": [
            "x_train shape: (143, 90, 90, 3) - y_train shape: (143,)\n",
            "x_test shape: (50, 90, 90, 3) - y_test shape: (50,)\n"
          ]
        }
      ]
    },
    {
      "cell_type": "code",
      "metadata": {
        "id": "_cWcvdJdbSaA"
      },
      "source": [
        "# Use data augmentation"
      ],
      "execution_count": null,
      "outputs": []
    },
    {
      "cell_type": "code",
      "metadata": {
        "id": "lYbrri9qbZkr"
      },
      "source": [
        "data_augmentation = keras.Sequential(\n",
        "    [\n",
        "        layers.experimental.preprocessing.Normalization(),\n",
        "        layers.experimental.preprocessing.Resizing(image_size, image_size),\n",
        "        layers.experimental.preprocessing.RandomFlip(\"horizontal\"),\n",
        "        layers.experimental.preprocessing.RandomRotation(factor=0.02),\n",
        "        layers.experimental.preprocessing.RandomZoom(\n",
        "            height_factor=0.2, width_factor=0.2\n",
        "        ),\n",
        "    ],\n",
        "    name=\"data_augmentation\",\n",
        ")\n",
        "# Compute the mean and the variance of the training data for normalization.\n",
        "data_augmentation.layers[0].adapt(x_train)"
      ],
      "execution_count": null,
      "outputs": []
    },
    {
      "cell_type": "code",
      "metadata": {
        "id": "jNB9FaKgbphb"
      },
      "source": [
        "# Implement multilayer perceptron (MLP)"
      ],
      "execution_count": null,
      "outputs": []
    },
    {
      "cell_type": "code",
      "metadata": {
        "id": "B1-DcOpKbuvC"
      },
      "source": [
        "def mlp(x, hidden_units, dropout_rate):\n",
        "    for units in hidden_units:\n",
        "        x = layers.Dense(units, activation=tf.nn.gelu)(x)\n",
        "        x = layers.Dropout(dropout_rate)(x)\n",
        "    return x"
      ],
      "execution_count": null,
      "outputs": []
    },
    {
      "cell_type": "code",
      "metadata": {
        "id": "FxxGBduvcFIF"
      },
      "source": [
        "#Implement patch creation as a layer"
      ],
      "execution_count": null,
      "outputs": []
    },
    {
      "cell_type": "code",
      "metadata": {
        "id": "SbqLgQgWcJSw"
      },
      "source": [
        "class Patches(layers.Layer):\n",
        "    def __init__(self, patch_size):\n",
        "        super(Patches, self).__init__()\n",
        "        self.patch_size = patch_size\n",
        "\n",
        "    def call(self, images):\n",
        "        batch_size = tf.shape(images)[0]\n",
        "        patches = tf.image.extract_patches(\n",
        "            images=images,\n",
        "            sizes=[1, self.patch_size, self.patch_size, 1],\n",
        "            strides=[1, self.patch_size, self.patch_size, 1],\n",
        "            rates=[1, 1, 1, 1],\n",
        "            padding=\"VALID\",\n",
        "        )\n",
        "        patch_dims = patches.shape[-1]\n",
        "        patches = tf.reshape(patches, [batch_size, -1, patch_dims])\n",
        "        return patches"
      ],
      "execution_count": null,
      "outputs": []
    },
    {
      "cell_type": "code",
      "metadata": {
        "id": "qrSo8vG5cOxd"
      },
      "source": [
        "#lets display"
      ],
      "execution_count": null,
      "outputs": []
    },
    {
      "cell_type": "code",
      "metadata": {
        "colab": {
          "base_uri": "https://localhost:8080/",
          "height": 549
        },
        "id": "LUjH6GqhcY1J",
        "outputId": "c96a529b-3e83-4aa2-85f1-554647ac67bc"
      },
      "source": [
        "import matplotlib.pyplot as plt\n",
        "\n",
        "plt.figure(figsize=(4, 4))\n",
        "image = x_train[np.random.choice(range(x_train.shape[0]))]\n",
        "plt.imshow(image.astype(\"uint8\"))\n",
        "plt.axis(\"off\")\n",
        "\n",
        "resized_image = tf.image.resize(tf.convert_to_tensor([image]), size=(image_size, image_size))\n",
        "patches = Patches(patch_size)(resized_image)\n",
        "print(f\"Image size: {image_size} X {image_size}\")\n",
        "print(f\"Patch size: {patch_size} X {patch_size}\")\n",
        "print(f\"Patches per image: {patches.shape[1]}\")\n",
        "print(f\"Elements per patch: {patches.shape[-1]}\")\n",
        "\n",
        "n = int(np.sqrt(patches.shape[1]))\n",
        "plt.figure(figsize=(4, 4))\n",
        "for i, patch in enumerate(patches[0]):\n",
        "    ax = plt.subplot(n, n, i + 1)\n",
        "    patch_img = tf.reshape(patch, (patch_size, patch_size, 3))\n",
        "    plt.imshow(patch_img.numpy().astype(\"uint8\"))\n",
        "    plt.axis(\"off\")"
      ],
      "execution_count": null,
      "outputs": [
        {
          "output_type": "stream",
          "name": "stdout",
          "text": [
            "Image size: 72 X 72\n",
            "Patch size: 24 X 24\n",
            "Patches per image: 9\n",
            "Elements per patch: 1728\n"
          ]
        },
        {
          "output_type": "display_data",
          "data": {
            "image/png": "[encoded data removed]",
            "text/plain": [
              "<Figure size 288x288 with 1 Axes>"
            ]
          },
          "metadata": {}
        },
        {
          "output_type": "display_data",
          "data": {
            "image/png": "[encoded data removed]",
            "text/plain": [
              "<Figure size 288x288 with 9 Axes>"
            ]
          },
          "metadata": {}
        }
      ]
    },
    {
      "cell_type": "code",
      "metadata": {
        "id": "yBGTkSy0cleQ"
      },
      "source": [
        "#Implement the patch encoding layer"
      ],
      "execution_count": null,
      "outputs": []
    },
    {
      "cell_type": "code",
      "metadata": {
        "id": "m--qKuj-cwZr"
      },
      "source": [
        "class PatchEncoder(layers.Layer):\n",
        "    def __init__(self, num_patches, projection_dim):\n",
        "        super(PatchEncoder, self).__init__()\n",
        "        self.num_patches = num_patches\n",
        "        self.projection = layers.Dense(units=projection_dim)\n",
        "        self.position_embedding = layers.Embedding(input_dim=num_patches, output_dim=projection_dim)\n",
        "\n",
        "    def call(self, patch):\n",
        "        positions = tf.range(start=0, limit=self.num_patches, delta=1)\n",
        "        encoded = self.projection(patch) + self.position_embedding(positions)\n",
        "        return encoded"
      ],
      "execution_count": null,
      "outputs": []
    },
    {
      "cell_type": "code",
      "metadata": {
        "id": "gKGZz7m2c211"
      },
      "source": [
        "#Build the ViT model"
      ],
      "execution_count": null,
      "outputs": []
    },
    {
      "cell_type": "code",
      "metadata": {
        "id": "5yH8cUY8c7Sm"
      },
      "source": [
        "def create_vit_classifier():\n",
        "    inputs = layers.Input(shape=input_shape)\n",
        "    # Augment data.\n",
        "    augmented = data_augmentation(inputs)\n",
        "    # Create patches.\n",
        "    patches = Patches(patch_size)(augmented)\n",
        "    # Encode patches.\n",
        "    encoded_patches = PatchEncoder(num_patches, projection_dim)(patches)\n",
        "\n",
        "    # Create multiple layers of the Transformer block.\n",
        "    for _ in range(transformer_layers):\n",
        "        # Layer normalization 1.\n",
        "        x1 = layers.LayerNormalization(epsilon=1e-6)(encoded_patches)\n",
        "        # Create a multi-head attention layer.\n",
        "        attention_output = layers.MultiHeadAttention(num_heads=num_heads, key_dim=projection_dim, dropout=0.1)(x1, x1)\n",
        "        # Skip connection 1.\n",
        "        x2 = layers.Add()([attention_output, encoded_patches])\n",
        "        # Layer normalization 2.\n",
        "        x3 = layers.LayerNormalization(epsilon=1e-6)(x2)\n",
        "        # MLP.\n",
        "        x3 = mlp(x3, hidden_units=transformer_units, dropout_rate=0.1)\n",
        "        # Skip connection 2.\n",
        "        encoded_patches = layers.Add()([x3, x2])\n",
        "\n",
        "    # Create a [batch_size, projection_dim] tensor.\n",
        "    representation = layers.LayerNormalization(epsilon=1e-6)(encoded_patches)\n",
        "    representation = layers.Flatten()(representation)\n",
        "    representation = layers.Dropout(0.5)(representation)\n",
        "    # Add MLP.\n",
        "    features = mlp(representation, hidden_units=mlp_head_units, dropout_rate=0.5)\n",
        "    # Classify outputs.\n",
        "    logits = layers.Dense(num_classes)(features)\n",
        "    # Create the Keras model.\n",
        "    model = keras.Model(inputs=inputs, outputs=logits)\n",
        "    return model"
      ],
      "execution_count": null,
      "outputs": []
    },
    {
      "cell_type": "code",
      "metadata": {
        "id": "zlnkVg_ddHfZ"
      },
      "source": [
        "#Compile, train, and evaluate the mode"
      ],
      "execution_count": null,
      "outputs": []
    },
    {
      "cell_type": "code",
      "metadata": {
        "id": "_n9qwcpZgzzn"
      },
      "source": [
        "num_classes = 2"
      ],
      "execution_count": null,
      "outputs": []
    },
    {
      "cell_type": "code",
      "metadata": {
        "colab": {
          "base_uri": "https://localhost:8080/"
        },
        "id": "bMcNM-z-dNip",
        "outputId": "a9e26d52-c60b-4a62-f7d0-7f63a4fd35e1"
      },
      "source": [
        "def run_experiment(model):\n",
        "    optimizer = tfa.optimizers.AdamW(\n",
        "        learning_rate=learning_rate, weight_decay=weight_decay\n",
        "    )\n",
        "\n",
        "    model.compile(\n",
        "        optimizer=optimizer,\n",
        "        loss=keras.losses.SparseCategoricalCrossentropy(from_logits=True),\n",
        "        metrics=[\n",
        "            keras.metrics.SparseCategoricalAccuracy(name=\"accuracy\"),\n",
        "            keras.metrics.SparseTopKCategoricalAccuracy(5, name=\"top-5-accuracy\"),\n",
        "        ],\n",
        "    )\n",
        "\n",
        "    checkpoint_filepath = \"/tmp/checkpoint\"\n",
        "    checkpoint_callback = keras.callbacks.ModelCheckpoint(\n",
        "        checkpoint_filepath,\n",
        "        monitor=\"val_accuracy\",\n",
        "        save_best_only=True,\n",
        "        save_weights_only=True,\n",
        "    )\n",
        "\n",
        "    history = model.fit(\n",
        "        x=x_train,\n",
        "        y=y_train,\n",
        "        batch_size=batch_size,\n",
        "        epochs=num_epochs,\n",
        "        validation_split=0.1,\n",
        "        callbacks=[checkpoint_callback],\n",
        "    )\n",
        "\n",
        "    model.load_weights(checkpoint_filepath)\n",
        "    _, accuracy, top_5_accuracy = model.evaluate(x_test, y_test)\n",
        "    print(f\"Test accuracy: {round(accuracy * 100, 2)}%\")\n",
        "    print(f\"Test top 5 accuracy: {round(top_5_accuracy * 100, 2)}%\")\n",
        "\n",
        "    return history\n",
        "\n",
        "\n",
        "vit_classifier = create_vit_classifier()\n",
        "history = run_experiment(vit_classifier)"
      ],
      "execution_count": null,
      "outputs": [
        {
          "output_type": "stream",
          "text": [
            "Epoch 1/100\n",
            "WARNING:tensorflow:From /usr/local/lib/python3.7/dist-packages/tensorflow/python/ops/array_ops.py:5049: calling gather (from tensorflow.python.ops.array_ops) with validate_indices is deprecated and will be removed in a future version.\n",
            "Instructions for updating:\n",
            "The `validate_indices` argument has no effect. Indices are always validated on CPU and never validated on GPU.\n",
            "1/1 [==============================] - 23s 23s/step - loss: 1.8390 - accuracy: 0.4688 - top-5-accuracy: 1.0000 - val_loss: 8.2850 - val_accuracy: 0.4667 - val_top-5-accuracy: 1.0000\n",
            "Epoch 2/100\n",
            "1/1 [==============================] - 8s 8s/step - loss: 5.7806 - accuracy: 0.6719 - top-5-accuracy: 1.0000 - val_loss: 1.8776 - val_accuracy: 0.7333 - val_top-5-accuracy: 1.0000\n",
            "Epoch 3/100\n",
            "1/1 [==============================] - 8s 8s/step - loss: 6.5103 - accuracy: 0.4766 - top-5-accuracy: 1.0000 - val_loss: 10.8275 - val_accuracy: 0.0667 - val_top-5-accuracy: 1.0000\n",
            "Epoch 4/100\n",
            "1/1 [==============================] - 8s 8s/step - loss: 5.5410 - accuracy: 0.6094 - top-5-accuracy: 1.0000 - val_loss: 0.8122 - val_accuracy: 0.8000 - val_top-5-accuracy: 1.0000\n",
            "Epoch 5/100\n",
            "1/1 [==============================] - 8s 8s/step - loss: 3.2212 - accuracy: 0.7266 - top-5-accuracy: 1.0000 - val_loss: 0.0549 - val_accuracy: 0.9333 - val_top-5-accuracy: 1.0000\n",
            "Epoch 6/100\n",
            "1/1 [==============================] - 8s 8s/step - loss: 2.8281 - accuracy: 0.7578 - top-5-accuracy: 1.0000 - val_loss: 0.8516 - val_accuracy: 0.8000 - val_top-5-accuracy: 1.0000\n",
            "Epoch 7/100\n",
            "1/1 [==============================] - 8s 8s/step - loss: 1.6060 - accuracy: 0.7969 - top-5-accuracy: 1.0000 - val_loss: 4.0699 - val_accuracy: 0.3333 - val_top-5-accuracy: 1.0000\n",
            "Epoch 8/100\n",
            "1/1 [==============================] - 8s 8s/step - loss: 1.3521 - accuracy: 0.7812 - top-5-accuracy: 1.0000 - val_loss: 2.3200 - val_accuracy: 0.6667 - val_top-5-accuracy: 1.0000\n",
            "Epoch 9/100\n",
            "1/1 [==============================] - 8s 8s/step - loss: 0.8072 - accuracy: 0.8359 - top-5-accuracy: 1.0000 - val_loss: 0.2988 - val_accuracy: 0.8667 - val_top-5-accuracy: 1.0000\n",
            "Epoch 10/100\n",
            "1/1 [==============================] - 8s 8s/step - loss: 0.9054 - accuracy: 0.8438 - top-5-accuracy: 1.0000 - val_loss: 0.0277 - val_accuracy: 1.0000 - val_top-5-accuracy: 1.0000\n",
            "Epoch 11/100\n",
            "1/1 [==============================] - 8s 8s/step - loss: 1.3222 - accuracy: 0.8047 - top-5-accuracy: 1.0000 - val_loss: 0.0701 - val_accuracy: 1.0000 - val_top-5-accuracy: 1.0000\n",
            "Epoch 12/100\n",
            "1/1 [==============================] - 8s 8s/step - loss: 0.7161 - accuracy: 0.8906 - top-5-accuracy: 1.0000 - val_loss: 0.5423 - val_accuracy: 0.7333 - val_top-5-accuracy: 1.0000\n",
            "Epoch 13/100\n",
            "1/1 [==============================] - 8s 8s/step - loss: 0.6813 - accuracy: 0.8594 - top-5-accuracy: 1.0000 - val_loss: 0.9763 - val_accuracy: 0.6000 - val_top-5-accuracy: 1.0000\n",
            "Epoch 14/100\n",
            "1/1 [==============================] - 8s 8s/step - loss: 0.5374 - accuracy: 0.8906 - top-5-accuracy: 1.0000 - val_loss: 0.6332 - val_accuracy: 0.7333 - val_top-5-accuracy: 1.0000\n",
            "Epoch 15/100\n",
            "1/1 [==============================] - 8s 8s/step - loss: 0.6562 - accuracy: 0.8438 - top-5-accuracy: 1.0000 - val_loss: 0.3336 - val_accuracy: 0.8000 - val_top-5-accuracy: 1.0000\n",
            "Epoch 16/100\n",
            "1/1 [==============================] - 8s 8s/step - loss: 0.4511 - accuracy: 0.8672 - top-5-accuracy: 1.0000 - val_loss: 0.5491 - val_accuracy: 0.8000 - val_top-5-accuracy: 1.0000\n",
            "Epoch 17/100\n",
            "1/1 [==============================] - 8s 8s/step - loss: 0.4625 - accuracy: 0.8984 - top-5-accuracy: 1.0000 - val_loss: 0.5411 - val_accuracy: 0.8000 - val_top-5-accuracy: 1.0000\n",
            "Epoch 18/100\n",
            "1/1 [==============================] - 8s 8s/step - loss: 0.3553 - accuracy: 0.8906 - top-5-accuracy: 1.0000 - val_loss: 0.7072 - val_accuracy: 0.8000 - val_top-5-accuracy: 1.0000\n",
            "Epoch 19/100\n",
            "1/1 [==============================] - 8s 8s/step - loss: 0.4170 - accuracy: 0.8984 - top-5-accuracy: 1.0000 - val_loss: 0.8030 - val_accuracy: 0.8667 - val_top-5-accuracy: 1.0000\n",
            "Epoch 20/100\n",
            "1/1 [==============================] - 8s 8s/step - loss: 0.3381 - accuracy: 0.9297 - top-5-accuracy: 1.0000 - val_loss: 0.9034 - val_accuracy: 0.8000 - val_top-5-accuracy: 1.0000\n",
            "Epoch 21/100\n",
            "1/1 [==============================] - 8s 8s/step - loss: 0.1760 - accuracy: 0.9375 - top-5-accuracy: 1.0000 - val_loss: 0.9787 - val_accuracy: 0.8000 - val_top-5-accuracy: 1.0000\n",
            "Epoch 22/100\n",
            "1/1 [==============================] - 8s 8s/step - loss: 0.3421 - accuracy: 0.9141 - top-5-accuracy: 1.0000 - val_loss: 0.8714 - val_accuracy: 0.8667 - val_top-5-accuracy: 1.0000\n",
            "Epoch 23/100\n",
            "1/1 [==============================] - 8s 8s/step - loss: 0.1592 - accuracy: 0.9609 - top-5-accuracy: 1.0000 - val_loss: 0.7352 - val_accuracy: 0.9333 - val_top-5-accuracy: 1.0000\n",
            "Epoch 24/100\n",
            "1/1 [==============================] - 8s 8s/step - loss: 0.3321 - accuracy: 0.9453 - top-5-accuracy: 1.0000 - val_loss: 0.6272 - val_accuracy: 0.9333 - val_top-5-accuracy: 1.0000\n",
            "Epoch 25/100\n",
            "1/1 [==============================] - 8s 8s/step - loss: 0.1556 - accuracy: 0.9688 - top-5-accuracy: 1.0000 - val_loss: 0.7877 - val_accuracy: 0.8000 - val_top-5-accuracy: 1.0000\n",
            "Epoch 26/100\n",
            "1/1 [==============================] - 8s 8s/step - loss: 0.2503 - accuracy: 0.9531 - top-5-accuracy: 1.0000 - val_loss: 1.1579 - val_accuracy: 0.6000 - val_top-5-accuracy: 1.0000\n",
            "Epoch 27/100\n",
            "1/1 [==============================] - 8s 8s/step - loss: 0.3228 - accuracy: 0.9219 - top-5-accuracy: 1.0000 - val_loss: 1.0325 - val_accuracy: 0.6000 - val_top-5-accuracy: 1.0000\n",
            "Epoch 28/100\n",
            "1/1 [==============================] - 8s 8s/step - loss: 0.2676 - accuracy: 0.9453 - top-5-accuracy: 1.0000 - val_loss: 0.6917 - val_accuracy: 0.8000 - val_top-5-accuracy: 1.0000\n",
            "Epoch 29/100\n",
            "1/1 [==============================] - 8s 8s/step - loss: 0.1993 - accuracy: 0.9297 - top-5-accuracy: 1.0000 - val_loss: 0.4119 - val_accuracy: 0.8667 - val_top-5-accuracy: 1.0000\n",
            "Epoch 30/100\n",
            "1/1 [==============================] - 8s 8s/step - loss: 0.2094 - accuracy: 0.9297 - top-5-accuracy: 1.0000 - val_loss: 0.3790 - val_accuracy: 0.8667 - val_top-5-accuracy: 1.0000\n",
            "Epoch 31/100\n",
            "1/1 [==============================] - 8s 8s/step - loss: 0.3347 - accuracy: 0.9375 - top-5-accuracy: 1.0000 - val_loss: 0.6014 - val_accuracy: 0.8667 - val_top-5-accuracy: 1.0000\n",
            "Epoch 32/100\n",
            "1/1 [==============================] - 8s 8s/step - loss: 0.2805 - accuracy: 0.9531 - top-5-accuracy: 1.0000 - val_loss: 0.7917 - val_accuracy: 0.8000 - val_top-5-accuracy: 1.0000\n",
            "Epoch 33/100\n",
            "1/1 [==============================] - 8s 8s/step - loss: 0.2631 - accuracy: 0.9375 - top-5-accuracy: 1.0000 - val_loss: 0.6626 - val_accuracy: 0.8000 - val_top-5-accuracy: 1.0000\n",
            "Epoch 34/100\n",
            "1/1 [==============================] - 8s 8s/step - loss: 0.1026 - accuracy: 0.9609 - top-5-accuracy: 1.0000 - val_loss: 0.4466 - val_accuracy: 0.8667 - val_top-5-accuracy: 1.0000\n",
            "Epoch 35/100\n",
            "1/1 [==============================] - 8s 8s/step - loss: 0.0707 - accuracy: 0.9766 - top-5-accuracy: 1.0000 - val_loss: 0.2239 - val_accuracy: 0.8667 - val_top-5-accuracy: 1.0000\n",
            "Epoch 36/100\n",
            "1/1 [==============================] - 8s 8s/step - loss: 0.0730 - accuracy: 0.9766 - top-5-accuracy: 1.0000 - val_loss: 0.2053 - val_accuracy: 0.8000 - val_top-5-accuracy: 1.0000\n",
            "Epoch 37/100\n",
            "1/1 [==============================] - 8s 8s/step - loss: 0.0426 - accuracy: 0.9922 - top-5-accuracy: 1.0000 - val_loss: 0.3064 - val_accuracy: 0.8000 - val_top-5-accuracy: 1.0000\n",
            "Epoch 38/100\n",
            "1/1 [==============================] - 8s 8s/step - loss: 0.2076 - accuracy: 0.9297 - top-5-accuracy: 1.0000 - val_loss: 0.3012 - val_accuracy: 0.8000 - val_top-5-accuracy: 1.0000\n",
            "Epoch 39/100\n",
            "1/1 [==============================] - 8s 8s/step - loss: 0.0470 - accuracy: 0.9922 - top-5-accuracy: 1.0000 - val_loss: 0.4255 - val_accuracy: 0.8667 - val_top-5-accuracy: 1.0000\n",
            "Epoch 40/100\n",
            "1/1 [==============================] - 8s 8s/step - loss: 0.1886 - accuracy: 0.9766 - top-5-accuracy: 1.0000 - val_loss: 0.6444 - val_accuracy: 0.8667 - val_top-5-accuracy: 1.0000\n",
            "Epoch 41/100\n",
            "1/1 [==============================] - 8s 8s/step - loss: 0.0305 - accuracy: 0.9844 - top-5-accuracy: 1.0000 - val_loss: 0.8812 - val_accuracy: 0.8000 - val_top-5-accuracy: 1.0000\n",
            "Epoch 42/100\n",
            "1/1 [==============================] - 8s 8s/step - loss: 0.0598 - accuracy: 0.9766 - top-5-accuracy: 1.0000 - val_loss: 0.9763 - val_accuracy: 0.8000 - val_top-5-accuracy: 1.0000\n",
            "Epoch 43/100\n",
            "1/1 [==============================] - 8s 8s/step - loss: 0.0854 - accuracy: 0.9531 - top-5-accuracy: 1.0000 - val_loss: 0.9815 - val_accuracy: 0.8000 - val_top-5-accuracy: 1.0000\n",
            "Epoch 44/100\n",
            "1/1 [==============================] - 8s 8s/step - loss: 0.0927 - accuracy: 0.9688 - top-5-accuracy: 1.0000 - val_loss: 1.0645 - val_accuracy: 0.8667 - val_top-5-accuracy: 1.0000\n",
            "Epoch 45/100\n",
            "1/1 [==============================] - 8s 8s/step - loss: 0.0415 - accuracy: 0.9844 - top-5-accuracy: 1.0000 - val_loss: 1.1213 - val_accuracy: 0.8667 - val_top-5-accuracy: 1.0000\n",
            "Epoch 46/100\n",
            "1/1 [==============================] - 8s 8s/step - loss: 0.0191 - accuracy: 0.9922 - top-5-accuracy: 1.0000 - val_loss: 1.1564 - val_accuracy: 0.8667 - val_top-5-accuracy: 1.0000\n",
            "Epoch 47/100\n",
            "1/1 [==============================] - 8s 8s/step - loss: 0.0430 - accuracy: 0.9844 - top-5-accuracy: 1.0000 - val_loss: 1.0742 - val_accuracy: 0.8667 - val_top-5-accuracy: 1.0000\n",
            "Epoch 48/100\n",
            "1/1 [==============================] - 8s 8s/step - loss: 0.0430 - accuracy: 0.9844 - top-5-accuracy: 1.0000 - val_loss: 0.9659 - val_accuracy: 0.8667 - val_top-5-accuracy: 1.0000\n",
            "Epoch 49/100\n",
            "1/1 [==============================] - 8s 8s/step - loss: 0.0470 - accuracy: 0.9844 - top-5-accuracy: 1.0000 - val_loss: 0.9773 - val_accuracy: 0.8667 - val_top-5-accuracy: 1.0000\n",
            "Epoch 50/100\n",
            "1/1 [==============================] - 8s 8s/step - loss: 0.1499 - accuracy: 0.9609 - top-5-accuracy: 1.0000 - val_loss: 0.6835 - val_accuracy: 0.8667 - val_top-5-accuracy: 1.0000\n",
            "Epoch 51/100\n",
            "1/1 [==============================] - 8s 8s/step - loss: 0.0041 - accuracy: 1.0000 - top-5-accuracy: 1.0000 - val_loss: 0.4598 - val_accuracy: 0.8667 - val_top-5-accuracy: 1.0000\n",
            "Epoch 52/100\n",
            "1/1 [==============================] - 9s 9s/step - loss: 0.0985 - accuracy: 0.9844 - top-5-accuracy: 1.0000 - val_loss: 0.3927 - val_accuracy: 0.9333 - val_top-5-accuracy: 1.0000\n",
            "Epoch 53/100\n",
            "1/1 [==============================] - 9s 9s/step - loss: 0.1069 - accuracy: 0.9688 - top-5-accuracy: 1.0000 - val_loss: 0.4584 - val_accuracy: 0.9333 - val_top-5-accuracy: 1.0000\n",
            "Epoch 54/100\n",
            "1/1 [==============================] - 8s 8s/step - loss: 0.1883 - accuracy: 0.9531 - top-5-accuracy: 1.0000 - val_loss: 1.0549 - val_accuracy: 0.7333 - val_top-5-accuracy: 1.0000\n",
            "Epoch 55/100\n",
            "1/1 [==============================] - 8s 8s/step - loss: 0.0050 - accuracy: 1.0000 - top-5-accuracy: 1.0000 - val_loss: 1.8610 - val_accuracy: 0.7333 - val_top-5-accuracy: 1.0000\n",
            "Epoch 56/100\n",
            "1/1 [==============================] - 8s 8s/step - loss: 0.0419 - accuracy: 0.9844 - top-5-accuracy: 1.0000 - val_loss: 2.6696 - val_accuracy: 0.6667 - val_top-5-accuracy: 1.0000\n",
            "Epoch 57/100\n",
            "1/1 [==============================] - 8s 8s/step - loss: 0.2696 - accuracy: 0.9688 - top-5-accuracy: 1.0000 - val_loss: 2.6743 - val_accuracy: 0.6667 - val_top-5-accuracy: 1.0000\n",
            "Epoch 58/100\n",
            "1/1 [==============================] - 8s 8s/step - loss: 0.4044 - accuracy: 0.9219 - top-5-accuracy: 1.0000 - val_loss: 1.3360 - val_accuracy: 0.8000 - val_top-5-accuracy: 1.0000\n",
            "Epoch 59/100\n",
            "1/1 [==============================] - 8s 8s/step - loss: 0.0229 - accuracy: 0.9844 - top-5-accuracy: 1.0000 - val_loss: 0.8726 - val_accuracy: 0.9333 - val_top-5-accuracy: 1.0000\n",
            "Epoch 60/100\n",
            "1/1 [==============================] - 8s 8s/step - loss: 0.0495 - accuracy: 0.9844 - top-5-accuracy: 1.0000 - val_loss: 0.8386 - val_accuracy: 0.9333 - val_top-5-accuracy: 1.0000\n",
            "Epoch 61/100\n",
            "1/1 [==============================] - 8s 8s/step - loss: 0.1602 - accuracy: 0.9688 - top-5-accuracy: 1.0000 - val_loss: 0.8510 - val_accuracy: 0.9333 - val_top-5-accuracy: 1.0000\n",
            "Epoch 62/100\n",
            "1/1 [==============================] - 8s 8s/step - loss: 0.2970 - accuracy: 0.9219 - top-5-accuracy: 1.0000 - val_loss: 1.0482 - val_accuracy: 0.8667 - val_top-5-accuracy: 1.0000\n",
            "Epoch 63/100\n",
            "1/1 [==============================] - 8s 8s/step - loss: 0.0102 - accuracy: 1.0000 - top-5-accuracy: 1.0000 - val_loss: 1.4636 - val_accuracy: 0.8667 - val_top-5-accuracy: 1.0000\n",
            "Epoch 64/100\n",
            "1/1 [==============================] - 8s 8s/step - loss: 0.0011 - accuracy: 1.0000 - top-5-accuracy: 1.0000 - val_loss: 2.2446 - val_accuracy: 0.7333 - val_top-5-accuracy: 1.0000\n",
            "Epoch 65/100\n",
            "1/1 [==============================] - 8s 8s/step - loss: 0.0343 - accuracy: 0.9844 - top-5-accuracy: 1.0000 - val_loss: 2.8693 - val_accuracy: 0.7333 - val_top-5-accuracy: 1.0000\n",
            "Epoch 66/100\n",
            "1/1 [==============================] - 8s 8s/step - loss: 0.2861 - accuracy: 0.9453 - top-5-accuracy: 1.0000 - val_loss: 1.8874 - val_accuracy: 0.8000 - val_top-5-accuracy: 1.0000\n",
            "Epoch 67/100\n",
            "1/1 [==============================] - 8s 8s/step - loss: 0.0805 - accuracy: 0.9922 - top-5-accuracy: 1.0000 - val_loss: 1.2995 - val_accuracy: 0.8667 - val_top-5-accuracy: 1.0000\n",
            "Epoch 68/100\n",
            "1/1 [==============================] - 8s 8s/step - loss: 0.0396 - accuracy: 0.9844 - top-5-accuracy: 1.0000 - val_loss: 0.9451 - val_accuracy: 0.8667 - val_top-5-accuracy: 1.0000\n",
            "Epoch 69/100\n",
            "1/1 [==============================] - 8s 8s/step - loss: 0.0013 - accuracy: 1.0000 - top-5-accuracy: 1.0000 - val_loss: 0.6623 - val_accuracy: 0.8667 - val_top-5-accuracy: 1.0000\n",
            "Epoch 70/100\n",
            "1/1 [==============================] - 8s 8s/step - loss: 0.0383 - accuracy: 0.9766 - top-5-accuracy: 1.0000 - val_loss: 0.4591 - val_accuracy: 0.8667 - val_top-5-accuracy: 1.0000\n",
            "Epoch 71/100\n",
            "1/1 [==============================] - 8s 8s/step - loss: 0.0536 - accuracy: 0.9922 - top-5-accuracy: 1.0000 - val_loss: 0.2915 - val_accuracy: 0.9333 - val_top-5-accuracy: 1.0000\n",
            "Epoch 72/100\n",
            "1/1 [==============================] - 8s 8s/step - loss: 5.0287e-04 - accuracy: 1.0000 - top-5-accuracy: 1.0000 - val_loss: 0.1646 - val_accuracy: 0.9333 - val_top-5-accuracy: 1.0000\n",
            "Epoch 73/100\n",
            "1/1 [==============================] - 8s 8s/step - loss: 0.2162 - accuracy: 0.9531 - top-5-accuracy: 1.0000 - val_loss: 0.1658 - val_accuracy: 0.9333 - val_top-5-accuracy: 1.0000\n",
            "Epoch 74/100\n",
            "1/1 [==============================] - 8s 8s/step - loss: 0.0684 - accuracy: 0.9844 - top-5-accuracy: 1.0000 - val_loss: 0.2774 - val_accuracy: 0.8667 - val_top-5-accuracy: 1.0000\n",
            "Epoch 75/100\n",
            "1/1 [==============================] - 8s 8s/step - loss: 0.0600 - accuracy: 0.9844 - top-5-accuracy: 1.0000 - val_loss: 0.3347 - val_accuracy: 0.8667 - val_top-5-accuracy: 1.0000\n",
            "Epoch 76/100\n",
            "1/1 [==============================] - 8s 8s/step - loss: 0.0356 - accuracy: 0.9766 - top-5-accuracy: 1.0000 - val_loss: 0.4313 - val_accuracy: 0.8667 - val_top-5-accuracy: 1.0000\n",
            "Epoch 77/100\n",
            "1/1 [==============================] - 8s 8s/step - loss: 0.0070 - accuracy: 0.9922 - top-5-accuracy: 1.0000 - val_loss: 0.5142 - val_accuracy: 0.8667 - val_top-5-accuracy: 1.0000\n",
            "Epoch 78/100\n",
            "1/1 [==============================] - 8s 8s/step - loss: 0.0854 - accuracy: 0.9766 - top-5-accuracy: 1.0000 - val_loss: 0.5834 - val_accuracy: 0.8667 - val_top-5-accuracy: 1.0000\n",
            "Epoch 79/100\n",
            "1/1 [==============================] - 8s 8s/step - loss: 0.0034 - accuracy: 1.0000 - top-5-accuracy: 1.0000 - val_loss: 0.6555 - val_accuracy: 0.8000 - val_top-5-accuracy: 1.0000\n",
            "Epoch 80/100\n",
            "1/1 [==============================] - 8s 8s/step - loss: 0.1300 - accuracy: 0.9688 - top-5-accuracy: 1.0000 - val_loss: 0.5540 - val_accuracy: 0.8667 - val_top-5-accuracy: 1.0000\n",
            "Epoch 81/100\n",
            "1/1 [==============================] - 8s 8s/step - loss: 0.0014 - accuracy: 1.0000 - top-5-accuracy: 1.0000 - val_loss: 0.5137 - val_accuracy: 0.8667 - val_top-5-accuracy: 1.0000\n",
            "Epoch 82/100\n",
            "1/1 [==============================] - 8s 8s/step - loss: 1.0821e-04 - accuracy: 1.0000 - top-5-accuracy: 1.0000 - val_loss: 0.4914 - val_accuracy: 0.8667 - val_top-5-accuracy: 1.0000\n",
            "Epoch 83/100\n",
            "1/1 [==============================] - 8s 8s/step - loss: 0.0783 - accuracy: 0.9922 - top-5-accuracy: 1.0000 - val_loss: 0.4442 - val_accuracy: 0.8667 - val_top-5-accuracy: 1.0000\n",
            "Epoch 84/100\n",
            "1/1 [==============================] - 8s 8s/step - loss: 0.0299 - accuracy: 0.9922 - top-5-accuracy: 1.0000 - val_loss: 0.4487 - val_accuracy: 0.8667 - val_top-5-accuracy: 1.0000\n",
            "Epoch 85/100\n",
            "1/1 [==============================] - 8s 8s/step - loss: 0.0249 - accuracy: 0.9922 - top-5-accuracy: 1.0000 - val_loss: 0.3929 - val_accuracy: 0.8667 - val_top-5-accuracy: 1.0000\n",
            "Epoch 86/100\n",
            "1/1 [==============================] - 8s 8s/step - loss: 0.0046 - accuracy: 1.0000 - top-5-accuracy: 1.0000 - val_loss: 0.3686 - val_accuracy: 0.8667 - val_top-5-accuracy: 1.0000\n",
            "Epoch 87/100\n",
            "1/1 [==============================] - 8s 8s/step - loss: 2.5984e-04 - accuracy: 1.0000 - top-5-accuracy: 1.0000 - val_loss: 0.3526 - val_accuracy: 0.8667 - val_top-5-accuracy: 1.0000\n",
            "Epoch 88/100\n",
            "1/1 [==============================] - 8s 8s/step - loss: 0.0178 - accuracy: 0.9922 - top-5-accuracy: 1.0000 - val_loss: 0.3725 - val_accuracy: 0.8667 - val_top-5-accuracy: 1.0000\n",
            "Epoch 89/100\n",
            "1/1 [==============================] - 8s 8s/step - loss: 0.0283 - accuracy: 0.9922 - top-5-accuracy: 1.0000 - val_loss: 0.4563 - val_accuracy: 0.8667 - val_top-5-accuracy: 1.0000\n",
            "Epoch 90/100\n",
            "1/1 [==============================] - 8s 8s/step - loss: 0.0394 - accuracy: 0.9922 - top-5-accuracy: 1.0000 - val_loss: 0.5782 - val_accuracy: 0.8667 - val_top-5-accuracy: 1.0000\n",
            "Epoch 91/100\n",
            "1/1 [==============================] - 8s 8s/step - loss: 0.0048 - accuracy: 1.0000 - top-5-accuracy: 1.0000 - val_loss: 0.7211 - val_accuracy: 0.8667 - val_top-5-accuracy: 1.0000\n",
            "Epoch 92/100\n",
            "1/1 [==============================] - 8s 8s/step - loss: 0.0038 - accuracy: 1.0000 - top-5-accuracy: 1.0000 - val_loss: 0.8842 - val_accuracy: 0.8667 - val_top-5-accuracy: 1.0000\n",
            "Epoch 93/100\n",
            "1/1 [==============================] - 8s 8s/step - loss: 4.3189e-04 - accuracy: 1.0000 - top-5-accuracy: 1.0000 - val_loss: 1.0432 - val_accuracy: 0.8000 - val_top-5-accuracy: 1.0000\n",
            "Epoch 94/100\n",
            "1/1 [==============================] - 8s 8s/step - loss: 0.0136 - accuracy: 0.9922 - top-5-accuracy: 1.0000 - val_loss: 1.1225 - val_accuracy: 0.8000 - val_top-5-accuracy: 1.0000\n",
            "Epoch 95/100\n",
            "1/1 [==============================] - 8s 8s/step - loss: 0.1175 - accuracy: 0.9844 - top-5-accuracy: 1.0000 - val_loss: 1.0819 - val_accuracy: 0.8000 - val_top-5-accuracy: 1.0000\n",
            "Epoch 96/100\n",
            "1/1 [==============================] - 8s 8s/step - loss: 0.0025 - accuracy: 1.0000 - top-5-accuracy: 1.0000 - val_loss: 1.0336 - val_accuracy: 0.8667 - val_top-5-accuracy: 1.0000\n",
            "Epoch 97/100\n",
            "1/1 [==============================] - 8s 8s/step - loss: 0.0798 - accuracy: 0.9688 - top-5-accuracy: 1.0000 - val_loss: 0.8857 - val_accuracy: 0.8667 - val_top-5-accuracy: 1.0000\n",
            "Epoch 98/100\n",
            "1/1 [==============================] - 8s 8s/step - loss: 0.0012 - accuracy: 1.0000 - top-5-accuracy: 1.0000 - val_loss: 0.8027 - val_accuracy: 0.8667 - val_top-5-accuracy: 1.0000\n",
            "Epoch 99/100\n",
            "1/1 [==============================] - 8s 8s/step - loss: 0.0404 - accuracy: 0.9844 - top-5-accuracy: 1.0000 - val_loss: 0.7687 - val_accuracy: 0.9333 - val_top-5-accuracy: 1.0000\n",
            "Epoch 100/100\n",
            "1/1 [==============================] - 8s 8s/step - loss: 0.0245 - accuracy: 0.9844 - top-5-accuracy: 1.0000 - val_loss: 0.7784 - val_accuracy: 0.9333 - val_top-5-accuracy: 1.0000\n",
            "2/2 [==============================] - 1s 351ms/step - loss: 1.4532 - accuracy: 0.7400 - top-5-accuracy: 1.0000\n",
            "Test accuracy: 74.0%\n",
            "Test top 5 accuracy: 100.0%\n"
          ],
          "name": "stdout"
        }
      ]
    },
    {
      "cell_type": "code",
      "metadata": {
        "id": "cll8DYiKdUTi"
      },
      "source": [],
      "execution_count": null,
      "outputs": []
    }
  ]
}