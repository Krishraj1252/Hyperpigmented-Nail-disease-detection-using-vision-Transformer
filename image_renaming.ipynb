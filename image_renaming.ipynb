{
 "cells": [
  {
   "cell_type": "code",
   "execution_count": 4,
   "metadata": {},
   "outputs": [],
   "source": [
    "import os\n",
    "from os import path\n",
    "import shutil\n",
    "\n",
    "Source_Path = 'D:/cropped_original'\n",
    "Destination = 'D:/cropped_nails'\n",
    "#dst_folder = os.mkdir(Destination)\n",
    "\n",
    "\n",
    "def main():\n",
    "    for count, filename in enumerate(os.listdir(Source_Path)):\n",
    "        dst =  \"noramal_nail\" + str(count) + \".jpg\"\n",
    "\n",
    "        # rename all the files\n",
    "        os.rename(os.path.join(Source_Path, filename),  os.path.join(Destination, dst))\n",
    "\n",
    "\n",
    "# Driver Code\n",
    "if __name__ == '__main__':\n",
    "    main()"
   ]
  },
  {
   "cell_type": "code",
   "execution_count": null,
   "metadata": {},
   "outputs": [],
   "source": []
  }
 ],
 "metadata": {
  "kernelspec": {
   "display_name": "Python 3",
   "language": "python",
   "name": "python3"
  },
  "language_info": {
   "codemirror_mode": {
    "name": "ipython",
    "version": 3
   },
   "file_extension": ".py",
   "mimetype": "text/x-python",
   "name": "python",
   "nbconvert_exporter": "python",
   "pygments_lexer": "ipython3",
   "version": "3.7.4"
  }
 },
 "nbformat": 4,
 "nbformat_minor": 4
}
